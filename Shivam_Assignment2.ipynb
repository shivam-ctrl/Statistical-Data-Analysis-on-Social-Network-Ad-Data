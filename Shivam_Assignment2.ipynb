{
  "nbformat": 4,
  "nbformat_minor": 0,
  "metadata": {
    "colab": {
      "name": "Shivam_Assignment2.ipynb",
      "provenance": [],
      "authorship_tag": "ABX9TyMK4YPNuOYXNNLOl2FG2MRd",
      "include_colab_link": true
    },
    "kernelspec": {
      "name": "python3",
      "display_name": "Python 3"
    },
    "language_info": {
      "name": "python"
    }
  },
  "cells": [
    {
      "cell_type": "markdown",
      "metadata": {
        "id": "view-in-github",
        "colab_type": "text"
      },
      "source": [
        "<a href=\"https://colab.research.google.com/github/shivam-ctrl/Statistical-Data-Analysis-on-Social-Network-Ad-Data/blob/main/Shivam_Assignment2.ipynb\" target=\"_parent\"><img src=\"https://colab.research.google.com/assets/colab-badge.svg\" alt=\"Open In Colab\"/></a>"
      ]
    },
    {
      "cell_type": "markdown",
      "metadata": {
        "id": "P-bb-l9MrpCX"
      },
      "source": [
        "**Social Network Ad Analysis**"
      ]
    },
    {
      "cell_type": "code",
      "metadata": {
        "colab": {
          "base_uri": "https://localhost:8080/"
        },
        "id": "yU6J5GQn-YLG",
        "outputId": "114774bb-0814-46ce-f32f-2380ec0067f7"
      },
      "source": [
        "from google.colab import drive\n",
        "drive.mount('/content/drive')"
      ],
      "execution_count": null,
      "outputs": [
        {
          "output_type": "stream",
          "name": "stdout",
          "text": [
            "Mounted at /content/drive\n"
          ]
        }
      ]
    },
    {
      "cell_type": "markdown",
      "metadata": {
        "id": "sdcOSy-a-DRL"
      },
      "source": [
        "**Importing Libraires**"
      ]
    },
    {
      "cell_type": "code",
      "metadata": {
        "id": "DtfeKhXw9OBo"
      },
      "source": [
        "import pandas as pd\n",
        "import numpy as np\n",
        "import seaborn as sns "
      ],
      "execution_count": null,
      "outputs": []
    },
    {
      "cell_type": "markdown",
      "metadata": {
        "id": "ddKjIcCc9wc0"
      },
      "source": [
        "**Importing Dataset**"
      ]
    },
    {
      "cell_type": "code",
      "metadata": {
        "id": "HV5pCJBN91iR"
      },
      "source": [
        "dataset = pd.read_csv('/content/drive/MyDrive/Colab Notebooks/Datasets/Social_Network_Ads.csv')"
      ],
      "execution_count": null,
      "outputs": []
    },
    {
      "cell_type": "code",
      "metadata": {
        "colab": {
          "base_uri": "https://localhost:8080/",
          "height": 204
        },
        "id": "6LvLNaqT-0tU",
        "outputId": "abd74d36-8c46-4c8f-d22d-3c12020814a9"
      },
      "source": [
        "dataset = dataset.iloc[:,1:]\n",
        "dataset.head()"
      ],
      "execution_count": null,
      "outputs": [
        {
          "output_type": "execute_result",
          "data": {
            "text/html": [
              "<div>\n",
              "<style scoped>\n",
              "    .dataframe tbody tr th:only-of-type {\n",
              "        vertical-align: middle;\n",
              "    }\n",
              "\n",
              "    .dataframe tbody tr th {\n",
              "        vertical-align: top;\n",
              "    }\n",
              "\n",
              "    .dataframe thead th {\n",
              "        text-align: right;\n",
              "    }\n",
              "</style>\n",
              "<table border=\"1\" class=\"dataframe\">\n",
              "  <thead>\n",
              "    <tr style=\"text-align: right;\">\n",
              "      <th></th>\n",
              "      <th>Gender</th>\n",
              "      <th>Age</th>\n",
              "      <th>EstimatedSalary</th>\n",
              "      <th>Purchased</th>\n",
              "    </tr>\n",
              "  </thead>\n",
              "  <tbody>\n",
              "    <tr>\n",
              "      <th>0</th>\n",
              "      <td>Male</td>\n",
              "      <td>19.0</td>\n",
              "      <td>19000.0</td>\n",
              "      <td>0.0</td>\n",
              "    </tr>\n",
              "    <tr>\n",
              "      <th>1</th>\n",
              "      <td>Male</td>\n",
              "      <td>35.0</td>\n",
              "      <td>20000.0</td>\n",
              "      <td>0.0</td>\n",
              "    </tr>\n",
              "    <tr>\n",
              "      <th>2</th>\n",
              "      <td>Female</td>\n",
              "      <td>26.0</td>\n",
              "      <td>43000.0</td>\n",
              "      <td>0.0</td>\n",
              "    </tr>\n",
              "    <tr>\n",
              "      <th>3</th>\n",
              "      <td>Female</td>\n",
              "      <td>27.0</td>\n",
              "      <td>57000.0</td>\n",
              "      <td>0.0</td>\n",
              "    </tr>\n",
              "    <tr>\n",
              "      <th>4</th>\n",
              "      <td>Male</td>\n",
              "      <td>19.0</td>\n",
              "      <td>76000.0</td>\n",
              "      <td>0.0</td>\n",
              "    </tr>\n",
              "  </tbody>\n",
              "</table>\n",
              "</div>"
            ],
            "text/plain": [
              "   Gender   Age  EstimatedSalary  Purchased\n",
              "0    Male  19.0          19000.0        0.0\n",
              "1    Male  35.0          20000.0        0.0\n",
              "2  Female  26.0          43000.0        0.0\n",
              "3  Female  27.0          57000.0        0.0\n",
              "4    Male  19.0          76000.0        0.0"
            ]
          },
          "metadata": {},
          "execution_count": 4
        }
      ]
    },
    {
      "cell_type": "markdown",
      "metadata": {
        "id": "hOmagEckCHuP"
      },
      "source": [
        "The dataset consists the data of all those who visited the Ad. And my analysis would be around the fact that whether the person purchased the product or not. It would be helpful for selecting the target customers."
      ]
    },
    {
      "cell_type": "code",
      "metadata": {
        "colab": {
          "base_uri": "https://localhost:8080/"
        },
        "id": "eoIZZmB3_OA4",
        "outputId": "69d1a4c3-d58e-4664-c36a-568782e953fe"
      },
      "source": [
        "print(dataset.isnull().sum())"
      ],
      "execution_count": null,
      "outputs": [
        {
          "output_type": "stream",
          "name": "stdout",
          "text": [
            "Gender             36\n",
            "Age                30\n",
            "EstimatedSalary    16\n",
            "Purchased          11\n",
            "dtype: int64\n"
          ]
        }
      ]
    },
    {
      "cell_type": "markdown",
      "metadata": {
        "id": "aIQdW72BDKFY"
      },
      "source": [
        "**Missing Data Handling**"
      ]
    },
    {
      "cell_type": "code",
      "metadata": {
        "id": "-mVa54B4DUd9"
      },
      "source": [
        "dataset = dataset.fillna(method = 'ffill', axis = 0)"
      ],
      "execution_count": null,
      "outputs": []
    },
    {
      "cell_type": "code",
      "metadata": {
        "colab": {
          "base_uri": "https://localhost:8080/"
        },
        "id": "YnGHq23MGrPI",
        "outputId": "8ea19aaf-0684-4e98-cfa1-463d61b44513"
      },
      "source": [
        "print(dataset.isnull().any())"
      ],
      "execution_count": null,
      "outputs": [
        {
          "output_type": "stream",
          "name": "stdout",
          "text": [
            "Gender             False\n",
            "Age                False\n",
            "EstimatedSalary    False\n",
            "Purchased          False\n",
            "dtype: bool\n"
          ]
        }
      ]
    },
    {
      "cell_type": "markdown",
      "metadata": {
        "id": "dzJ4dE4nHTjO"
      },
      "source": [
        "**Statistics**"
      ]
    },
    {
      "cell_type": "code",
      "metadata": {
        "id": "zYO4gwU-ZJiQ"
      },
      "source": [
        "buyers = dataset[dataset['Purchased'] == 1] # data of buyers"
      ],
      "execution_count": null,
      "outputs": []
    },
    {
      "cell_type": "code",
      "metadata": {
        "colab": {
          "base_uri": "https://localhost:8080/",
          "height": 204
        },
        "id": "vbWt7kkBPeRu",
        "outputId": "15e9136c-6c43-490f-c461-4e10db2414a0"
      },
      "source": [
        "buyers.head()"
      ],
      "execution_count": null,
      "outputs": [
        {
          "output_type": "execute_result",
          "data": {
            "text/html": [
              "<div>\n",
              "<style scoped>\n",
              "    .dataframe tbody tr th:only-of-type {\n",
              "        vertical-align: middle;\n",
              "    }\n",
              "\n",
              "    .dataframe tbody tr th {\n",
              "        vertical-align: top;\n",
              "    }\n",
              "\n",
              "    .dataframe thead th {\n",
              "        text-align: right;\n",
              "    }\n",
              "</style>\n",
              "<table border=\"1\" class=\"dataframe\">\n",
              "  <thead>\n",
              "    <tr style=\"text-align: right;\">\n",
              "      <th></th>\n",
              "      <th>Gender</th>\n",
              "      <th>Age</th>\n",
              "      <th>EstimatedSalary</th>\n",
              "      <th>Purchased</th>\n",
              "    </tr>\n",
              "  </thead>\n",
              "  <tbody>\n",
              "    <tr>\n",
              "      <th>7</th>\n",
              "      <td>Female</td>\n",
              "      <td>32.0</td>\n",
              "      <td>150000.0</td>\n",
              "      <td>1.0</td>\n",
              "    </tr>\n",
              "    <tr>\n",
              "      <th>16</th>\n",
              "      <td>Male</td>\n",
              "      <td>47.0</td>\n",
              "      <td>25000.0</td>\n",
              "      <td>1.0</td>\n",
              "    </tr>\n",
              "    <tr>\n",
              "      <th>17</th>\n",
              "      <td>Male</td>\n",
              "      <td>45.0</td>\n",
              "      <td>26000.0</td>\n",
              "      <td>1.0</td>\n",
              "    </tr>\n",
              "    <tr>\n",
              "      <th>18</th>\n",
              "      <td>Male</td>\n",
              "      <td>46.0</td>\n",
              "      <td>28000.0</td>\n",
              "      <td>1.0</td>\n",
              "    </tr>\n",
              "    <tr>\n",
              "      <th>19</th>\n",
              "      <td>Female</td>\n",
              "      <td>48.0</td>\n",
              "      <td>29000.0</td>\n",
              "      <td>1.0</td>\n",
              "    </tr>\n",
              "  </tbody>\n",
              "</table>\n",
              "</div>"
            ],
            "text/plain": [
              "    Gender   Age  EstimatedSalary  Purchased\n",
              "7   Female  32.0         150000.0        1.0\n",
              "16    Male  47.0          25000.0        1.0\n",
              "17    Male  45.0          26000.0        1.0\n",
              "18    Male  46.0          28000.0        1.0\n",
              "19  Female  48.0          29000.0        1.0"
            ]
          },
          "metadata": {},
          "execution_count": 15
        }
      ]
    },
    {
      "cell_type": "markdown",
      "metadata": {
        "id": "mXNptK3OMHNm"
      },
      "source": [
        "**Age Based Analysis**"
      ]
    },
    {
      "cell_type": "code",
      "metadata": {
        "colab": {
          "base_uri": "https://localhost:8080/"
        },
        "id": "kHRoD8Q0HZCw",
        "outputId": "239ea30b-d17e-400f-9c31-67fa87c9b4a3"
      },
      "source": [
        "dataset['Age'].describe()"
      ],
      "execution_count": null,
      "outputs": [
        {
          "output_type": "execute_result",
          "data": {
            "text/plain": [
              "count    400.000000\n",
              "mean      37.922500\n",
              "std       10.323174\n",
              "min       18.000000\n",
              "25%       30.000000\n",
              "50%       37.000000\n",
              "75%       46.000000\n",
              "max       60.000000\n",
              "Name: Age, dtype: float64"
            ]
          },
          "metadata": {},
          "execution_count": 9
        }
      ]
    },
    {
      "cell_type": "markdown",
      "metadata": {
        "id": "VydfhcZ1Ij-c"
      },
      "source": [
        "Observing the mean and quartile deviations of the age column, we can conclude that the AD was visited mostly by adults in their late 30s to early 40s."
      ]
    },
    {
      "cell_type": "code",
      "metadata": {
        "colab": {
          "base_uri": "https://localhost:8080/",
          "height": 386
        },
        "id": "dcuARvgtPYuT",
        "outputId": "ffbe9ac0-9daa-47e2-e454-c72ebd46e8ed"
      },
      "source": [
        "sns.displot(buyers['Age'])"
      ],
      "execution_count": null,
      "outputs": [
        {
          "output_type": "execute_result",
          "data": {
            "text/plain": [
              "<seaborn.axisgrid.FacetGrid at 0x7f6445134410>"
            ]
          },
          "metadata": {},
          "execution_count": 19
        },
        {
          "output_type": "display_data",
          "data": {
            "image/png": "[encoded data removed]",
            "text/plain": [
              "<Figure size 360x360 with 1 Axes>"
            ]
          },
          "metadata": {
            "needs_background": "light"
          }
        }
      ]
    },
    {
      "cell_type": "markdown",
      "metadata": {
        "id": "7efkSNobRumD"
      },
      "source": [
        "Most buyers were between the age group 45-50."
      ]
    },
    {
      "cell_type": "markdown",
      "metadata": {
        "id": "nmmJD_H5MOGl"
      },
      "source": [
        "**Salary Based Analysis**"
      ]
    },
    {
      "cell_type": "code",
      "metadata": {
        "colab": {
          "base_uri": "https://localhost:8080/"
        },
        "id": "3iQDWfPTMxkn",
        "outputId": "4ffdfcc9-75ce-4eaf-f960-8df1f8d29443"
      },
      "source": [
        "dataset['EstimatedSalary'].describe()"
      ],
      "execution_count": null,
      "outputs": [
        {
          "output_type": "execute_result",
          "data": {
            "text/plain": [
              "count       400.000000\n",
              "mean      68875.000000\n",
              "std       33629.849717\n",
              "min       15000.000000\n",
              "25%       43000.000000\n",
              "50%       69500.000000\n",
              "75%       86000.000000\n",
              "max      150000.000000\n",
              "Name: EstimatedSalary, dtype: float64"
            ]
          },
          "metadata": {},
          "execution_count": 10
        }
      ]
    },
    {
      "cell_type": "markdown",
      "metadata": {
        "id": "ZT7CsDEVKQhu"
      },
      "source": [
        "Looking at the statistics of the EstimatedSalary column we can see that the middle class have shown their interest in the product."
      ]
    },
    {
      "cell_type": "code",
      "metadata": {
        "colab": {
          "base_uri": "https://localhost:8080/",
          "height": 386
        },
        "id": "EycLk1bCR8nP",
        "outputId": "1fe3fcce-7c10-4794-d0f9-816938c9bf66"
      },
      "source": [
        "sns.displot(buyers['EstimatedSalary'])"
      ],
      "execution_count": null,
      "outputs": [
        {
          "output_type": "execute_result",
          "data": {
            "text/plain": [
              "<seaborn.axisgrid.FacetGrid at 0x7f6445088890>"
            ]
          },
          "metadata": {},
          "execution_count": 20
        },
        {
          "output_type": "display_data",
          "data": {
            "image/png": "[encoded data removed]",
            "text/plain": [
              "<Figure size 360x360 with 1 Axes>"
            ]
          },
          "metadata": {
            "needs_background": "light"
          }
        }
      ]
    },
    {
      "cell_type": "markdown",
      "metadata": {
        "id": "gmb0eM6TSZv2"
      },
      "source": [
        "The buyers were more on the later half of the salary scale(higher salary) but the most buyers were in the salary range 20000 to 35000 which has increased the count of the people with lower salary and therefore we cannot neglect the one's with less salary."
      ]
    },
    {
      "cell_type": "code",
      "metadata": {
        "colab": {
          "base_uri": "https://localhost:8080/",
          "height": 350
        },
        "id": "eV582xmQTjeB",
        "outputId": "e8e94a1b-f415-4ef2-ed4f-c3d778a3fd49"
      },
      "source": [
        "sns.boxplot('EstimatedSalary', data=buyers)"
      ],
      "execution_count": null,
      "outputs": [
        {
          "output_type": "stream",
          "name": "stderr",
          "text": [
            "/usr/local/lib/python3.7/dist-packages/seaborn/_decorators.py:43: FutureWarning: Pass the following variable as a keyword arg: x. From version 0.12, the only valid positional argument will be `data`, and passing other arguments without an explicit keyword will result in an error or misinterpretation.\n",
            "  FutureWarning\n"
          ]
        },
        {
          "output_type": "execute_result",
          "data": {
            "text/plain": [
              "<matplotlib.axes._subplots.AxesSubplot at 0x7f6444fc6650>"
            ]
          },
          "metadata": {},
          "execution_count": 21
        },
        {
          "output_type": "display_data",
          "data": {
            "image/png": "[encoded data removed]",
            "text/plain": [
              "<Figure size 432x288 with 1 Axes>"
            ]
          },
          "metadata": {
            "needs_background": "light"
          }
        }
      ]
    },
    {
      "cell_type": "markdown",
      "metadata": {
        "id": "MF6aIuClM4nR"
      },
      "source": [
        "**Purchase Based Analysis**"
      ]
    },
    {
      "cell_type": "code",
      "metadata": {
        "colab": {
          "base_uri": "https://localhost:8080/"
        },
        "id": "9ot2q9nlM-jR",
        "outputId": "a35285ef-e4f4-4fad-c4ec-d82523deddc7"
      },
      "source": [
        "dataset['Purchased'].describe()"
      ],
      "execution_count": null,
      "outputs": [
        {
          "output_type": "execute_result",
          "data": {
            "text/plain": [
              "count    400.000000\n",
              "mean       0.345000\n",
              "std        0.475964\n",
              "min        0.000000\n",
              "25%        0.000000\n",
              "50%        0.000000\n",
              "75%        1.000000\n",
              "max        1.000000\n",
              "Name: Purchased, dtype: float64"
            ]
          },
          "metadata": {},
          "execution_count": 11
        }
      ]
    },
    {
      "cell_type": "code",
      "metadata": {
        "colab": {
          "base_uri": "https://localhost:8080/",
          "height": 265
        },
        "id": "b-vJEkYRWbiz",
        "outputId": "ca8b4403-5f9f-4a27-9e19-45a8f6d79f2c"
      },
      "source": [
        "(dataset.groupby(['Purchased'])['Purchased'].count()).plot.pie(autopct=\"%.1f%%\")"
      ],
      "execution_count": null,
      "outputs": [
        {
          "output_type": "execute_result",
          "data": {
            "text/plain": [
              "<matplotlib.axes._subplots.AxesSubplot at 0x7f64616ab790>"
            ]
          },
          "metadata": {},
          "execution_count": 12
        },
        {
          "output_type": "display_data",
          "data": {
            "image/png": "[encoded data removed]",
            "text/plain": [
              "<Figure size 432x288 with 1 Axes>"
            ]
          },
          "metadata": {}
        }
      ]
    },
    {
      "cell_type": "markdown",
      "metadata": {
        "id": "zRnEK0BDJi6_"
      },
      "source": [
        "Seeing the mean of the purchased column we can see that 34.5% of the people who saw the AD actually purchased the product."
      ]
    },
    {
      "cell_type": "markdown",
      "metadata": {
        "id": "-hQ_c5zZLc79"
      },
      "source": [
        "**Gender Based Analysis**"
      ]
    },
    {
      "cell_type": "code",
      "metadata": {
        "colab": {
          "base_uri": "https://localhost:8080/"
        },
        "id": "vJO4mjB6W-qi",
        "outputId": "26e8aeaa-6116-47b2-f888-964eb0a59890"
      },
      "source": [
        "dataset.groupby(['Gender'])['Purchased'].sum()"
      ],
      "execution_count": null,
      "outputs": [
        {
          "output_type": "execute_result",
          "data": {
            "text/plain": [
              "Gender\n",
              "Female    76.0\n",
              "Male      62.0\n",
              "Name: Purchased, dtype: float64"
            ]
          },
          "metadata": {},
          "execution_count": 13
        }
      ]
    },
    {
      "cell_type": "code",
      "metadata": {
        "colab": {
          "base_uri": "https://localhost:8080/",
          "height": 265
        },
        "id": "EmnN0isgL0Qa",
        "outputId": "957def48-3ac5-4373-89ab-a7ff3e570aaf"
      },
      "source": [
        "(dataset.groupby(['Gender'])['Purchased'].sum()).plot.pie(autopct=\"%.1f%%\")"
      ],
      "execution_count": null,
      "outputs": [
        {
          "output_type": "execute_result",
          "data": {
            "text/plain": [
              "<matplotlib.axes._subplots.AxesSubplot at 0x7f64615e43d0>"
            ]
          },
          "metadata": {},
          "execution_count": 14
        },
        {
          "output_type": "display_data",
          "data": {
            "image/png": "[encoded data removed]",
            "text/plain": [
              "<Figure size 432x288 with 1 Axes>"
            ]
          },
          "metadata": {}
        }
      ]
    },
    {
      "cell_type": "markdown",
      "metadata": {
        "id": "CBVU4iFKPFf2"
      },
      "source": [
        "Women have shown more interest on the product as 55% of the customers were women. "
      ]
    },
    {
      "cell_type": "markdown",
      "metadata": {
        "id": "_riuRpMEVHpo"
      },
      "source": [
        "**Categorical Data Encoding**"
      ]
    },
    {
      "cell_type": "code",
      "metadata": {
        "id": "Nu8LtNhSVq78"
      },
      "source": [
        "from sklearn.preprocessing import LabelEncoder\n",
        "genderEncoder = LabelEncoder()\n",
        "dataset['Gender'] = genderEncoder.fit_transform(dataset['Gender'])"
      ],
      "execution_count": null,
      "outputs": []
    },
    {
      "cell_type": "code",
      "metadata": {
        "colab": {
          "base_uri": "https://localhost:8080/",
          "height": 204
        },
        "id": "D6orfssOdj2q",
        "outputId": "f4fc3c71-26e5-41e2-cfd7-886c750a09e7"
      },
      "source": [
        "dataset.head()"
      ],
      "execution_count": null,
      "outputs": [
        {
          "output_type": "execute_result",
          "data": {
            "text/html": [
              "<div>\n",
              "<style scoped>\n",
              "    .dataframe tbody tr th:only-of-type {\n",
              "        vertical-align: middle;\n",
              "    }\n",
              "\n",
              "    .dataframe tbody tr th {\n",
              "        vertical-align: top;\n",
              "    }\n",
              "\n",
              "    .dataframe thead th {\n",
              "        text-align: right;\n",
              "    }\n",
              "</style>\n",
              "<table border=\"1\" class=\"dataframe\">\n",
              "  <thead>\n",
              "    <tr style=\"text-align: right;\">\n",
              "      <th></th>\n",
              "      <th>Gender</th>\n",
              "      <th>Age</th>\n",
              "      <th>EstimatedSalary</th>\n",
              "      <th>Purchased</th>\n",
              "    </tr>\n",
              "  </thead>\n",
              "  <tbody>\n",
              "    <tr>\n",
              "      <th>0</th>\n",
              "      <td>1</td>\n",
              "      <td>19.0</td>\n",
              "      <td>19000.0</td>\n",
              "      <td>0.0</td>\n",
              "    </tr>\n",
              "    <tr>\n",
              "      <th>1</th>\n",
              "      <td>1</td>\n",
              "      <td>35.0</td>\n",
              "      <td>20000.0</td>\n",
              "      <td>0.0</td>\n",
              "    </tr>\n",
              "    <tr>\n",
              "      <th>2</th>\n",
              "      <td>0</td>\n",
              "      <td>26.0</td>\n",
              "      <td>43000.0</td>\n",
              "      <td>0.0</td>\n",
              "    </tr>\n",
              "    <tr>\n",
              "      <th>3</th>\n",
              "      <td>0</td>\n",
              "      <td>27.0</td>\n",
              "      <td>57000.0</td>\n",
              "      <td>0.0</td>\n",
              "    </tr>\n",
              "    <tr>\n",
              "      <th>4</th>\n",
              "      <td>1</td>\n",
              "      <td>19.0</td>\n",
              "      <td>76000.0</td>\n",
              "      <td>0.0</td>\n",
              "    </tr>\n",
              "  </tbody>\n",
              "</table>\n",
              "</div>"
            ],
            "text/plain": [
              "   Gender   Age  EstimatedSalary  Purchased\n",
              "0       1  19.0          19000.0        0.0\n",
              "1       1  35.0          20000.0        0.0\n",
              "2       0  26.0          43000.0        0.0\n",
              "3       0  27.0          57000.0        0.0\n",
              "4       1  19.0          76000.0        0.0"
            ]
          },
          "metadata": {},
          "execution_count": 37
        }
      ]
    },
    {
      "cell_type": "code",
      "metadata": {
        "colab": {
          "base_uri": "https://localhost:8080/",
          "height": 286
        },
        "id": "_bDH_xhkern1",
        "outputId": "a1850e52-c0b2-417d-f7f9-117fbbd4c60b"
      },
      "source": [
        "sns.heatmap(dataset.corr())"
      ],
      "execution_count": null,
      "outputs": [
        {
          "output_type": "execute_result",
          "data": {
            "text/plain": [
              "<matplotlib.axes._subplots.AxesSubplot at 0x7f644384c650>"
            ]
          },
          "metadata": {},
          "execution_count": 41
        },
        {
          "output_type": "display_data",
          "data": {
            "image/png": "[encoded data removed]",
            "text/plain": [
              "<Figure size 432x288 with 2 Axes>"
            ]
          },
          "metadata": {
            "needs_background": "light"
          }
        }
      ]
    },
    {
      "cell_type": "markdown",
      "metadata": {
        "id": "dO-MBhxwe0bC"
      },
      "source": [
        "Age is showing a better correlation(+ve) with Purchased and so we can conclude that with increase in age the interest towards the product increases.\n",
        "So, we can say that we cannot target a perticular gender or focus on those with a perticular estimated salary as it it would be a bad model. Instead we can consider age as a criteria for our target because of its strong positive correlation with  "
      ]
    }
  ]
}